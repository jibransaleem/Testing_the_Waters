{
  "nbformat": 4,
  "nbformat_minor": 0,
  "metadata": {
    "colab": {
      "provenance": []
    },
    "kernelspec": {
      "name": "python3",
      "display_name": "Python 3"
    },
    "language_info": {
      "name": "python"
    }
  },
  "cells": [
    {
      "cell_type": "markdown",
      "source": [
        "**OBJECT LITERAL :**\n",
        "\n",
        "Easiest way to create an object\n",
        "This is for python built class\n",
        "example:\n",
        "\n",
        "If Car is a class , we create obj like that my_Car = Car()\n",
        "\n",
        ",but for built in python data types we can also create object like this l =[11,2] , This is called object literal , declraing object litrally, it is same as\n",
        "list() , here we are calling class"
      ],
      "metadata": {
        "id": "fNeHiHPoTWrf"
      }
    },
    {
      "cell_type": "markdown",
      "source": [
        "**CONSTRUCTOR:**\n",
        "\n",
        "\n",
        "A special/dunder/magic method of a class , which is called automatically when ever the object of this class is created\n",
        "\n",
        "In python the constructure name should be __init__\n",
        "\n",
        "In java of C++ the constructor name should be of class name"
      ],
      "metadata": {
        "id": "I_EF1iAjXBGP"
      }
    },
    {
      "cell_type": "markdown",
      "source": [
        "# Dunder Methods\n",
        "\n",
        "They are special methods , that we dont call , they call them self at particular condition\n",
        "\n",
        "like , constructor we dont have otpion to call it , but when ever the object is created it is called it self\n",
        "\n",
        "They are built in defined , You cant creat your own , but can over-write them"
      ],
      "metadata": {
        "id": "XEhBnG3Qbkrx"
      }
    },
    {
      "cell_type": "markdown",
      "source": [
        "# **self**\n",
        "\n",
        "self is a reference to the current object (instance) of a class, used to access its attributes and methods.\n",
        "\n",
        " self is nothing but a reference to its own object.\n",
        "\n",
        " NEED:\n",
        "\n",
        " Class data and methods can only be accessed by the object of its class\n",
        "\n",
        " In class , one function/method canot acess other function/method\n",
        "\n",
        " To acees this data , methods we need object to full fill this issue we have self,which is nothing but it self an object"
      ],
      "metadata": {
        "id": "VKWFdjuFejEy"
      }
    },
    {
      "cell_type": "code",
      "source": [
        "class Car:\n",
        "  def __init__(self):\n",
        "    pass\n",
        "  def door(self):\n",
        "    pass\n",
        "x = Car()\n",
        "x.door() # => Car.door(x)  hence x is itself a self"
      ],
      "metadata": {
        "id": "n4IUOmG9eiX0"
      },
      "execution_count": null,
      "outputs": []
    },
    {
      "cell_type": "markdown",
      "source": [
        "#Small project day1\n"
      ],
      "metadata": {
        "id": "QKtsInmdpsTu"
      }
    },
    {
      "cell_type": "markdown",
      "source": [
        "Make a small basic ATM SYSTEM"
      ],
      "metadata": {
        "id": "F1etWsnTpz6b"
      }
    },
    {
      "cell_type": "code",
      "source": [
        "#retriver\n",
        "#add money\n",
        "#check balance\n",
        "class Atm:\n",
        "  def __init__(self):\n",
        "    self.card_No = None\n",
        "    self.money = 0\n",
        "    self.Account()\n",
        "\n",
        "  def Account(self):\n",
        "        self.card_No = input('Choose your Card number : ').strip()\n",
        "\n",
        "  def Balance(self):\n",
        "      print(f'Your current account balance is {self.money}')\n",
        "\n",
        "  def Deposit(self):\n",
        "      card = input(\"Enter your card number: \").strip()\n",
        "      if card!=self.card_No:\n",
        "        print(\"Enter Valid card Number\")\n",
        "        quit  = input(\"If You want to retry kindly Enter [Y]\").strip().lower()\n",
        "        if quit == 'y':\n",
        "          self.Deposit()\n",
        "        return\n",
        "      money = int(input(\"Enter the amount of money you want to Deposit: \").strip())\n",
        "      print('Depositing')\n",
        "      self.money+=money\n",
        "\n",
        "  def Checkout(self):\n",
        "      card = input(\"Enter your card number: \").strip()\n",
        "      if card!=self.card_No:\n",
        "        print(\"Enter Valid card Number\")\n",
        "        return\n",
        "      money = int(input(\"Enter the amount of money you want to Checkout: \").strip())\n",
        "      if self.money< money:\n",
        "        print('Please checkout money according to you current balance: ')\n",
        "        self.Balance()\n",
        "        return\n",
        "      print('Checkouting.....')\n",
        "      self.money-=money\n",
        "\n",
        "card  = Atm()\n"
      ],
      "metadata": {
        "colab": {
          "base_uri": "https://localhost:8080/"
        },
        "id": "vnkdZDjET8lh",
        "outputId": "cd7d676b-ff4d-4b6b-ec1a-28ce6596a4e9"
      },
      "execution_count": 22,
      "outputs": [
        {
          "name": "stdout",
          "output_type": "stream",
          "text": [
            "Choose your Card number : 12\n"
          ]
        }
      ]
    },
    {
      "cell_type": "code",
      "source": [],
      "metadata": {
        "id": "612kKURjwern"
      },
      "execution_count": null,
      "outputs": []
    },
    {
      "cell_type": "code",
      "source": [
        "card.Deposit()"
      ],
      "metadata": {
        "colab": {
          "base_uri": "https://localhost:8080/"
        },
        "id": "1OWZK9JNqIJ-",
        "outputId": "6c27fefb-533a-4803-b139-b367e55d129c"
      },
      "execution_count": 23,
      "outputs": [
        {
          "output_type": "stream",
          "name": "stdout",
          "text": [
            "Enter your card number: 12\n",
            "Enter the amount of money you want to Deposit: 100\n",
            "Depositing\n"
          ]
        }
      ]
    },
    {
      "cell_type": "code",
      "source": [
        "card.Deposit()\n"
      ],
      "metadata": {
        "colab": {
          "base_uri": "https://localhost:8080/"
        },
        "id": "be2EUv_4wfg4",
        "outputId": "fb08752a-64b8-4af7-a282-c88e14cab9c8"
      },
      "execution_count": 24,
      "outputs": [
        {
          "output_type": "stream",
          "name": "stdout",
          "text": [
            "Enter your card number: 13\n",
            "Enter Valid card Number\n",
            "If You want to retry kindly Enter [Y]y\n",
            "Enter your card number: 12\n",
            "Enter the amount of money you want to Deposit: 100\n",
            "Depositing\n"
          ]
        }
      ]
    },
    {
      "cell_type": "code",
      "source": [
        "card.Deposit()"
      ],
      "metadata": {
        "colab": {
          "base_uri": "https://localhost:8080/"
        },
        "id": "wiC0AhAEweS0",
        "outputId": "e3fb67d6-8641-4d80-f213-480e97f57e34"
      },
      "execution_count": 25,
      "outputs": [
        {
          "name": "stdout",
          "output_type": "stream",
          "text": [
            "Enter your card number: 13\n",
            "Enter Valid card Number\n",
            "If You want to retry kindly Enter [Y]no\n"
          ]
        }
      ]
    },
    {
      "cell_type": "code",
      "source": [
        "card.Checkout()"
      ],
      "metadata": {
        "colab": {
          "base_uri": "https://localhost:8080/"
        },
        "id": "mZmiQnUdwt0j",
        "outputId": "b3676781-b1a9-4152-ced5-c5181a9135ef"
      },
      "execution_count": 26,
      "outputs": [
        {
          "output_type": "stream",
          "name": "stdout",
          "text": [
            "Enter your card number: 12\n",
            "Enter the amount of money you want to Checkout: 100\n",
            "Checkouting.....\n"
          ]
        }
      ]
    },
    {
      "cell_type": "code",
      "source": [
        "card.Balance()"
      ],
      "metadata": {
        "colab": {
          "base_uri": "https://localhost:8080/"
        },
        "id": "aohpWoYjw4Fv",
        "outputId": "3ed8ca22-5887-42a5-e75f-311bd0a9247d"
      },
      "execution_count": 27,
      "outputs": [
        {
          "output_type": "stream",
          "name": "stdout",
          "text": [
            "Your current account balance is 100\n"
          ]
        }
      ]
    }
  ]
}